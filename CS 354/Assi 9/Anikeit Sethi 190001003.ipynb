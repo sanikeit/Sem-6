{
 "cells": [
  {
   "cell_type": "code",
   "execution_count": 1,
   "metadata": {},
   "outputs": [],
   "source": [
    "import numpy as np\n",
    "from sklearn.utils import shuffle\n",
    "import matplotlib.pyplot as plt"
   ]
  },
  {
   "cell_type": "code",
   "execution_count": 2,
   "metadata": {},
   "outputs": [],
   "source": [
    "class All_Model:\n",
    "    \n",
    "    def activation_sigmoid(self,x):\n",
    "        return 1/(1+np.exp(-x))\n",
    "    \n",
    "    def sigmoid_differentiation(self,x):\n",
    "        return x*(1.0 - x) \n",
    "\n",
    "    def __init__(self,no_Inputs,no_hiden,no_out,learning_rate=0.001,epochs=1000,t=0.5):\n",
    "        self.no_Inputs = no_Inputs\n",
    "        self.no_hiden = no_hiden\n",
    "        self.no_out = no_out\n",
    "        self.learning_rate = learning_rate\n",
    "        self.epochs = epochs\n",
    "        self.threshold = t\n",
    "    \n",
    "        Layer = [self.no_Inputs] + self.no_hiden + [self.no_out]\n",
    "        self.weights = []\n",
    "        for i in range(len(Layer)-1):\n",
    "            w = np.random.randm(Layer[i],Layer[i+1])\n",
    "            self.weights.append(w)\n",
    "\n",
    "        self.bias = []\n",
    "        for i in range(len(Layer)-1):\n",
    "            b = np.random.randm(1,Layer[i+1])\n",
    "            self.bias.append(b)\n",
    "        \n",
    "        self.activations = []\n",
    "        for i in range(len(Layer)):\n",
    "            self.activations.append(np.random.randm(1,Layer[i]))\n",
    "\n",
    "        self.wderivatives = []\n",
    "        for i in range(len(Layer)-1):\n",
    "            self.wderivatives.append(np.random.randm(Layer[i],Layer[i+1]))\n",
    "\n",
    "        self.bderivatives = []\n",
    "        for i in range(len(Layer)-1):\n",
    "            self.bderivatives.append(np.random.randm(1,Layer[i+1]))\n",
    "\n",
    "    def forward(self,inputs):\n",
    "        a = inputs\n",
    "        self.activations[0] = a.reshape(1,a.shape[0])\n",
    "        for i,w in enumerate(self.weights):\n",
    "            z = np.dot(a,w) + self.bias[i]\n",
    "            a = self.activation_sigmoid(z)\n",
    "            self.activations[i+1] = a\n",
    "        \n",
    "        return a\n",
    "    \n",
    "    def backward_pass(self,error):\n",
    "        for i in reversed(range(len(self.wderivatives))):\n",
    "            a_next = self.activations[i+1]\n",
    "            delta = error*self.sigmoid_differentiation(a_next)\n",
    "            delta = delta.reshape(delta.shape[0],-1)\n",
    "            a_curr = self.activations[i]\n",
    "            a_curr = a_curr.reshape(a_curr.shape[1],-1)\n",
    "            self.wderivatives[i] = np.dot(a_curr,delta)\n",
    "            self.bderivatives[i] = delta\n",
    "            error = np.dot(delta,self.weights[i].T)\n",
    "        \n",
    "        return error\n",
    "\n",
    "    def updating(self):\n",
    "        for i in range(len(self.weights)):\n",
    "            self.weights[i] += self.learning_rate*self.wderivatives[i]\n",
    "            self.bias[i] += self.learning_rate*self.bderivatives[i]\n",
    "    \n",
    "    def train(self,inputs,labels):\n",
    "        for i in range(self.epochs):\n",
    "            for j,(x,y) in enumerate(zip(inputs,labels)):\n",
    "                output = self.forward(x)\n",
    "                error = y - output\n",
    "                temp = self.backward_pass(error)\n",
    "                self.updating()"
   ]
  },
  {
   "cell_type": "markdown",
   "metadata": {},
   "source": [
    "# Question 1"
   ]
  },
  {
   "cell_type": "code",
   "execution_count": 3,
   "metadata": {},
   "outputs": [],
   "source": [
    "train_inputs = np.random.randint(2,size=(20,7))\n",
    "val_inputs = np.random.randint(2,size=(10,7))\n",
    "\n",
    "train_outputs = []\n",
    "val_outputs = []\n",
    "\n",
    "for x in train_inputs:\n",
    "    if np.sum(x,axis=0)<3:\n",
    "        train_outputs.append(0)\n",
    "    else:\n",
    "        train_outputs.append(1)\n",
    "\n",
    "for x in val_inputs:\n",
    "    if np.sum(x,axis=0)<3:\n",
    "        val_outputs.append(0)\n",
    "    else:\n",
    "        val_outputs.append(1)\n",
    "\n",
    "train_outputs = np.array(train_outputs)\n",
    "val_outputs = np.array(val_outputs)\n"
   ]
  },
  {
   "cell_type": "code",
   "execution_count": 4,
   "metadata": {},
   "outputs": [
    {
     "name": "stdout",
     "output_type": "stream",
     "text": [
      "--------------Backpropagation Learning Method for 7 Input Majority Problem----------------\n",
      "Training from the Random training data....\n"
     ]
    },
    {
     "ename": "NameError",
     "evalue": "name 'Model' is not defined",
     "output_type": "error",
     "traceback": [
      "\u001b[1;31m---------------------------------------------------------------------------\u001b[0m",
      "\u001b[1;31mNameError\u001b[0m                                 Traceback (most recent call last)",
      "\u001b[1;32mc:\\Users\\anike\\Desktop\\Semester 6\\CS 354\\Assi 9\\Anikeit Sethi 190001003.ipynb Cell 5'\u001b[0m in \u001b[0;36m<cell line: 3>\u001b[1;34m()\u001b[0m\n\u001b[0;32m      <a href='vscode-notebook-cell:/c%3A/Users/anike/Desktop/Semester%206/CS%20354/Assi%209/Anikeit%20Sethi%20190001003.ipynb#ch0000004?line=0'>1</a>\u001b[0m \u001b[39mprint\u001b[39m(\u001b[39m\"\u001b[39m\u001b[39m--------------Backpropagation Learning Method for 7 Input Majority Problem----------------\u001b[39m\u001b[39m\"\u001b[39m)\n\u001b[0;32m      <a href='vscode-notebook-cell:/c%3A/Users/anike/Desktop/Semester%206/CS%20354/Assi%209/Anikeit%20Sethi%20190001003.ipynb#ch0000004?line=1'>2</a>\u001b[0m \u001b[39mprint\u001b[39m(\u001b[39m\"\u001b[39m\u001b[39mTraining from the Random training data....\u001b[39m\u001b[39m\"\u001b[39m)\n\u001b[1;32m----> <a href='vscode-notebook-cell:/c%3A/Users/anike/Desktop/Semester%206/CS%20354/Assi%209/Anikeit%20Sethi%20190001003.ipynb#ch0000004?line=2'>3</a>\u001b[0m inst \u001b[39m=\u001b[39m Model(\u001b[39m7\u001b[39m,[\u001b[39m15\u001b[39m],\u001b[39m1\u001b[39m)\n\u001b[0;32m      <a href='vscode-notebook-cell:/c%3A/Users/anike/Desktop/Semester%206/CS%20354/Assi%209/Anikeit%20Sethi%20190001003.ipynb#ch0000004?line=3'>4</a>\u001b[0m inst\u001b[39m.\u001b[39mtrain(train_inputs,train_outputs)\n\u001b[0;32m      <a href='vscode-notebook-cell:/c%3A/Users/anike/Desktop/Semester%206/CS%20354/Assi%209/Anikeit%20Sethi%20190001003.ipynb#ch0000004?line=4'>5</a>\u001b[0m thres \u001b[39m=\u001b[39m \u001b[39m0.5\u001b[39m\n",
      "\u001b[1;31mNameError\u001b[0m: name 'Model' is not defined"
     ]
    }
   ],
   "source": [
    "print(\"--------------Backpropagation Learning Method for 7 Input Majority Problem----------------\")\n",
    "print(\"Training from the Random training data....\")\n",
    "inst = Model(7,[15],1)\n",
    "inst.train(train_inputs,train_outputs)\n",
    "thres = 0.5\n",
    "tot,cor = 0,0\n",
    "\n",
    "for (inp,lab) in zip(train_inputs,train_outputs):\n",
    "    out = inst.forward(inp)\n",
    "    out = (out>thres)*1\n",
    "    tot+=1\n",
    "    if out==lab:\n",
    "        cor+=1\n",
    "    accu=cor/tot\n",
    "    print(accu)\n",
    "print(\"The accuracy in Training is: \")\n",
    "print(accu*100, \"%\") \n",
    "tot,cor = 0,0\n",
    "\n",
    "for (inp,lab) in zip(val_inputs,val_outputs):\n",
    "    out = inst.forward(inp)\n",
    "    out = (out>thres)*1\n",
    "    tot+=1\n",
    "    if out==lab:\n",
    "        cor+=1\n",
    "    print(accu)    \n",
    "    print(cor/tot)\n",
    "print(\"The prediction accuracy in Training is: \")\n",
    "print(accu*100, \"%\") \n",
    "print(inst.weights)"
   ]
  },
  {
   "cell_type": "markdown",
   "metadata": {},
   "source": [
    "# Question 2"
   ]
  },
  {
   "cell_type": "code",
   "execution_count": 39,
   "metadata": {},
   "outputs": [],
   "source": [
    "parent_inputs = []\n",
    "parent_outputs = []\n",
    "\n",
    "for i in range(1,100):\n",
    "    temp = [int(j) for j in bin(i)[2:]]\n",
    "    repr = []\n",
    "    for j in range(7-len(temp)):\n",
    "        repr = [0] + repr\n",
    "    repr = repr+list(temp)\n",
    "    parent_inputs.append(np.array(repr))\n",
    "    parent_outputs.append([round(1/(i+1),3)])\n",
    "\n",
    "parent_inputs,parent_outputs = shuffle(parent_inputs,parent_outputs,random_state=0)\n",
    "\n",
    "train_inputs = np.array(parent_inputs[:80])\n",
    "train_outputs = np.array(parent_outputs[:80])\n",
    "\n",
    "val_inputs = np.array(parent_inputs[80:])\n",
    "val_outputs = np.array(parent_outputs[80:])"
   ]
  },
  {
   "cell_type": "code",
   "execution_count": 44,
   "metadata": {},
   "outputs": [
    {
     "name": "stdout",
     "output_type": "stream",
     "text": [
      "The prediction accuracy is: \n",
      "0.0 %\n",
      "The prediction accuracy is: \n",
      "5.263157894736842 %\n",
      "The prediction accuracy is: \n",
      "1.25 %\n",
      "The prediction accuracy is: \n",
      "0.0 %\n",
      "The prediction accuracy is: \n",
      "0.0 %\n",
      "The prediction accuracy is: \n",
      "0.0 %\n",
      "The prediction accuracy is: \n",
      "1.25 %\n",
      "The prediction accuracy is: \n",
      "5.263157894736842 %\n",
      "The prediction accuracy is: \n",
      "10.0 %\n",
      "The prediction accuracy is: \n",
      "0.0 %\n",
      "The prediction accuracy is: \n",
      "12.5 %\n",
      "The prediction accuracy is: \n",
      "10.526315789473683 %\n",
      "The prediction accuracy is: \n",
      "5.0 %\n",
      "The prediction accuracy is: \n",
      "10.526315789473683 %\n",
      "The prediction accuracy is: \n",
      "18.75 %\n",
      "The prediction accuracy is: \n",
      "15.789473684210526 %\n"
     ]
    },
    {
     "ename": "KeyboardInterrupt",
     "evalue": "",
     "output_type": "error",
     "traceback": [
      "\u001b[1;31m---------------------------------------------------------------------------\u001b[0m",
      "\u001b[1;31mKeyboardInterrupt\u001b[0m                         Traceback (most recent call last)",
      "\u001b[1;32mc:\\Users\\anike\\Downloads\\Vaibhav Chandra 190001065.ipynb Cell 8'\u001b[0m in \u001b[0;36m<cell line: 1>\u001b[1;34m()\u001b[0m\n\u001b[0;32m      <a href='vscode-notebook-cell:/c%3A/Users/anike/Downloads/Vaibhav%20Chandra%20190001065.ipynb#ch0000007?line=0'>1</a>\u001b[0m \u001b[39mfor\u001b[39;00m hid \u001b[39min\u001b[39;00m \u001b[39mrange\u001b[39m(\u001b[39m1\u001b[39m,\u001b[39m30\u001b[39m):\n\u001b[0;32m      <a href='vscode-notebook-cell:/c%3A/Users/anike/Downloads/Vaibhav%20Chandra%20190001065.ipynb#ch0000007?line=1'>2</a>\u001b[0m     inst \u001b[39m=\u001b[39m Model(\u001b[39m7\u001b[39m,[hid],\u001b[39m1\u001b[39m)\n\u001b[1;32m----> <a href='vscode-notebook-cell:/c%3A/Users/anike/Downloads/Vaibhav%20Chandra%20190001065.ipynb#ch0000007?line=2'>3</a>\u001b[0m     inst\u001b[39m.\u001b[39;49mtrain(train_inputs,train_outputs)\n\u001b[0;32m      <a href='vscode-notebook-cell:/c%3A/Users/anike/Downloads/Vaibhav%20Chandra%20190001065.ipynb#ch0000007?line=4'>5</a>\u001b[0m     tot,cor \u001b[39m=\u001b[39m \u001b[39m0\u001b[39m,\u001b[39m0\u001b[39m\n\u001b[0;32m      <a href='vscode-notebook-cell:/c%3A/Users/anike/Downloads/Vaibhav%20Chandra%20190001065.ipynb#ch0000007?line=6'>7</a>\u001b[0m     \u001b[39mfor\u001b[39;00m (inp,lab) \u001b[39min\u001b[39;00m \u001b[39mzip\u001b[39m(train_inputs,train_outputs):\n",
      "\u001b[1;32mc:\\Users\\anike\\Downloads\\Vaibhav Chandra 190001065.ipynb Cell 2'\u001b[0m in \u001b[0;36mModel.train\u001b[1;34m(self, inputs, labels)\u001b[0m\n\u001b[0;32m     <a href='vscode-notebook-cell:/c%3A/Users/anike/Downloads/Vaibhav%20Chandra%20190001065.ipynb#ch0000001?line=73'>74</a>\u001b[0m output \u001b[39m=\u001b[39m \u001b[39mself\u001b[39m\u001b[39m.\u001b[39mforward(x)\n\u001b[0;32m     <a href='vscode-notebook-cell:/c%3A/Users/anike/Downloads/Vaibhav%20Chandra%20190001065.ipynb#ch0000001?line=74'>75</a>\u001b[0m error \u001b[39m=\u001b[39m y \u001b[39m-\u001b[39m output\n\u001b[1;32m---> <a href='vscode-notebook-cell:/c%3A/Users/anike/Downloads/Vaibhav%20Chandra%20190001065.ipynb#ch0000001?line=75'>76</a>\u001b[0m temp \u001b[39m=\u001b[39m \u001b[39mself\u001b[39;49m\u001b[39m.\u001b[39;49mbackward(error)\n\u001b[0;32m     <a href='vscode-notebook-cell:/c%3A/Users/anike/Downloads/Vaibhav%20Chandra%20190001065.ipynb#ch0000001?line=76'>77</a>\u001b[0m \u001b[39mself\u001b[39m\u001b[39m.\u001b[39mupdating()\n",
      "\u001b[1;32mc:\\Users\\anike\\Downloads\\Vaibhav Chandra 190001065.ipynb Cell 2'\u001b[0m in \u001b[0;36mModel.backward\u001b[1;34m(self, error)\u001b[0m\n\u001b[0;32m     <a href='vscode-notebook-cell:/c%3A/Users/anike/Downloads/Vaibhav%20Chandra%20190001065.ipynb#ch0000001?line=59'>60</a>\u001b[0m     \u001b[39mself\u001b[39m\u001b[39m.\u001b[39mwderivatives[i] \u001b[39m=\u001b[39m np\u001b[39m.\u001b[39mdot(a_curr,delta)\n\u001b[0;32m     <a href='vscode-notebook-cell:/c%3A/Users/anike/Downloads/Vaibhav%20Chandra%20190001065.ipynb#ch0000001?line=60'>61</a>\u001b[0m     \u001b[39mself\u001b[39m\u001b[39m.\u001b[39mbderivatives[i] \u001b[39m=\u001b[39m delta\n\u001b[1;32m---> <a href='vscode-notebook-cell:/c%3A/Users/anike/Downloads/Vaibhav%20Chandra%20190001065.ipynb#ch0000001?line=61'>62</a>\u001b[0m     error \u001b[39m=\u001b[39m np\u001b[39m.\u001b[39;49mdot(delta,\u001b[39mself\u001b[39;49m\u001b[39m.\u001b[39;49mweights[i]\u001b[39m.\u001b[39;49mT)\n\u001b[0;32m     <a href='vscode-notebook-cell:/c%3A/Users/anike/Downloads/Vaibhav%20Chandra%20190001065.ipynb#ch0000001?line=63'>64</a>\u001b[0m \u001b[39mreturn\u001b[39;00m error\n",
      "File \u001b[1;32m<__array_function__ internals>:5\u001b[0m, in \u001b[0;36mdot\u001b[1;34m(*args, **kwargs)\u001b[0m\n",
      "\u001b[1;31mKeyboardInterrupt\u001b[0m: "
     ]
    }
   ],
   "source": [
    "for hid in range(1,30):\n",
    "    inst = Model(7,[hid],1)\n",
    "    inst.train(train_inputs,train_outputs)\n",
    "\n",
    "    tot,cor = 0,0\n",
    "\n",
    "    for (inp,lab) in zip(train_inputs,train_outputs):\n",
    "        out = inst.forward(inp)\n",
    "        out[0][0] = round(out[0][0],2)\n",
    "        lab = round(lab[0],2)\n",
    "        tot+=1\n",
    "        if out.item()==lab.item():\n",
    "            cor+=1\n",
    "    print(cor/tot)\n",
    "    tot,cor = 0,0\n",
    "\n",
    "    for (inp,lab) in zip(val_inputs,val_outputs):\n",
    "        out = inst.forward(inp)\n",
    "        out[0][0] = round(out[0][0],2)\n",
    "        lab = round(lab[0],2)\n",
    "        tot+=1\n",
    "        if out.item()==lab.item():\n",
    "            cor+=1\n",
    "    print(cor/tot)"
   ]
  },
  {
   "cell_type": "markdown",
   "metadata": {},
   "source": [
    "# Question 3"
   ]
  },
  {
   "cell_type": "code",
   "execution_count": 4,
   "metadata": {},
   "outputs": [
    {
     "ename": "NameError",
     "evalue": "name 'shuffle' is not defined",
     "output_type": "error",
     "traceback": [
      "\u001b[1;31m---------------------------------------------------------------------------\u001b[0m",
      "\u001b[1;31mNameError\u001b[0m                                 Traceback (most recent call last)",
      "\u001b[1;32m~\\AppData\\Local\\Temp/ipykernel_31212/1781867842.py\u001b[0m in \u001b[0;36m<module>\u001b[1;34m\u001b[0m\n\u001b[0;32m      3\u001b[0m \u001b[0mtrain_outputs\u001b[0m \u001b[1;33m=\u001b[0m \u001b[1;33m(\u001b[0m\u001b[0mtrain_outputs\u001b[0m \u001b[1;33m==\u001b[0m \u001b[1;34m'versicolor'\u001b[0m\u001b[1;33m)\u001b[0m\u001b[1;33m*\u001b[0m\u001b[1;36m1\u001b[0m\u001b[1;33m\u001b[0m\u001b[1;33m\u001b[0m\u001b[0m\n\u001b[0;32m      4\u001b[0m \u001b[1;33m\u001b[0m\u001b[0m\n\u001b[1;32m----> 5\u001b[1;33m \u001b[0mtrain_inputs\u001b[0m\u001b[1;33m,\u001b[0m\u001b[0mtrain_outputs\u001b[0m \u001b[1;33m=\u001b[0m \u001b[0mshuffle\u001b[0m\u001b[1;33m(\u001b[0m\u001b[0mtrain_inputs\u001b[0m\u001b[1;33m,\u001b[0m\u001b[0mtrain_outputs\u001b[0m\u001b[1;33m,\u001b[0m\u001b[0mrandom_state\u001b[0m\u001b[1;33m=\u001b[0m\u001b[1;36m0\u001b[0m\u001b[1;33m)\u001b[0m\u001b[1;33m\u001b[0m\u001b[1;33m\u001b[0m\u001b[0m\n\u001b[0m\u001b[0;32m      6\u001b[0m \u001b[1;33m\u001b[0m\u001b[0m\n\u001b[0;32m      7\u001b[0m \u001b[0mtest_inputs\u001b[0m \u001b[1;33m=\u001b[0m \u001b[0mnp\u001b[0m\u001b[1;33m.\u001b[0m\u001b[0mloadtxt\u001b[0m\u001b[1;33m(\u001b[0m\u001b[0mopen\u001b[0m\u001b[1;33m(\u001b[0m\u001b[1;34m'iris_test.csv'\u001b[0m\u001b[1;33m)\u001b[0m\u001b[1;33m,\u001b[0m\u001b[0mdelimiter\u001b[0m\u001b[1;33m=\u001b[0m\u001b[1;34m','\u001b[0m\u001b[1;33m,\u001b[0m\u001b[0musecols\u001b[0m\u001b[1;33m=\u001b[0m\u001b[0mrange\u001b[0m\u001b[1;33m(\u001b[0m\u001b[1;36m4\u001b[0m\u001b[1;33m)\u001b[0m\u001b[1;33m,\u001b[0m\u001b[0mskiprows\u001b[0m\u001b[1;33m=\u001b[0m\u001b[1;33m(\u001b[0m\u001b[1;36m1\u001b[0m\u001b[1;33m)\u001b[0m\u001b[1;33m)\u001b[0m\u001b[1;33m\u001b[0m\u001b[1;33m\u001b[0m\u001b[0m\n",
      "\u001b[1;31mNameError\u001b[0m: name 'shuffle' is not defined"
     ]
    }
   ],
   "source": [
    "train_inputs = np.loadtxt(open('iris_train.csv'),delimiter=',',usecols=range(4),skiprows=(1))\n",
    "train_outputs = np.loadtxt(open('iris_train.csv'),delimiter=',',usecols=(4),skiprows=(1),dtype=str)\n",
    "train_outputs = (train_outputs == 'versicolor')*1\n",
    "\n",
    "train_inputs,train_outputs = shuffle(train_inputs,train_outputs,random_state=0)\n",
    "\n",
    "test_inputs = np.loadtxt(open('iris_test.csv'),delimiter=',',usecols=range(4),skiprows=(1))\n",
    "test_outputs = np.loadtxt(open('iris_test.csv'),delimiter=',',usecols=(4),skiprows=(1),dtype=str)\n",
    "test_outputs = (test_outputs == 'versicolor')*1\n",
    "\n",
    "test_inputs,test_outputs = shuffle(test_inputs,test_outputs,random_state=0)\n",
    "\n",
    "\n",
    "inst = Model(4,[5],1)\n",
    "inst.train(train_inputs,train_outputs)\n",
    "\n",
    "thres = 0.5\n",
    "tot,cor = 0,0\n",
    "for (inp,lab) in zip(train_inputs,train_outputs):\n",
    "    out = inst.forward(inp)\n",
    "    out = (out>thres)*1\n",
    "    tot+=1\n",
    "    if out==lab:\n",
    "        cor+=1\n",
    "print(cor/tot)\n",
    "\n",
    "tot,cor = 0,0\n",
    "\n",
    "for (inp,lab) in zip(test_inputs,test_outputs):\n",
    "    out = inst.forward(inp)\n",
    "    out = (out>thres)*1\n",
    "    tot+=1\n",
    "    if out==lab:\n",
    "        cor+=1\n",
    "print(cor/tot)\n",
    "\n"
   ]
  }
 ],
 "metadata": {
  "interpreter": {
   "hash": "8296d0786e9b384ebb7f91942e232033740bae4a9ae1f1bba7a3651c8060b4f0"
  },
  "kernelspec": {
   "display_name": "Python 3.9.7 ('base')",
   "language": "python",
   "name": "python3"
  },
  "language_info": {
   "codemirror_mode": {
    "name": "ipython",
    "version": 3
   },
   "file_extension": ".py",
   "mimetype": "text/x-python",
   "name": "python",
   "nbconvert_exporter": "python",
   "pygments_lexer": "ipython3",
   "version": "3.8.12"
  },
  "orig_nbformat": 4
 },
 "nbformat": 4,
 "nbformat_minor": 2
}
