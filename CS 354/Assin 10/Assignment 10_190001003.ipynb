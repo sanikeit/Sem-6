{
 "cells": [
  {
   "cell_type": "markdown",
   "id": "7267886f",
   "metadata": {},
   "source": [
    "\n",
    "Anikeit Sethi\n",
    "(190001003)\n",
    "\n",
    "# Q1. Auto Associative Neural Network"
   ]
  },
  {
   "cell_type": "code",
   "execution_count": 37,
   "id": "70ef2db8",
   "metadata": {},
   "outputs": [],
   "source": [
    "import numpy as np\n",
    "\n",
    "\n",
    "tar = np.array([\n",
    "    \n",
    "    [1,1,1,1],\n",
    "    \n",
    "    [1,1,-1,-1]\n",
    "   \n",
    "    ]\n",
    ")\n",
    "\n",
    "class Hopfield_Net:\n",
    "\n",
    "    def __init__(self):\n",
    "        self.wei= np.dot (tar.T, tar)\n",
    "        for i in range(len(self.wei)):\n",
    "                self.wei[i][i]=0;\n",
    "        self.thresh=0        \n",
    "        print(\"weights(W4x4) are:\\n\",self.wei)\n",
    "   \n",
    "    #Threshold\n",
    "    # 3 cases\n",
    "        # asynch learning ## IMPORTANT\n",
    "        # y_itr is updating, y is prev value\n",
    "    def check_thresh(self, y_in, y):\n",
    "        output=y\n",
    "        if(y_in>self.thresh):\n",
    "            output=1\n",
    "        elif(y_in<self.thresh):\n",
    "            output=0\n",
    "      #  print(output,'output')\n",
    "        return output\n",
    "    \n",
    "    def parse(self, matrix_inp):\n",
    "        for x in matrix_inp:\n",
    "            y=x\n",
    "            y_in=y#3rd case\n",
    "            order = [1,4,3,2]\n",
    "            iter=0\n",
    "            while True:\n",
    "                temp = list(y)\n",
    "                for i in order:\n",
    "                    sum=0\n",
    "                    c=0\n",
    "                    for row in self.wei:\n",
    "                        sum+=y[c]*row[i-1]\n",
    "                        c=c+1\n",
    "                    y_in[i-1]=x[i-1] + sum\n",
    "                    y[i-1]=self.check_thresh(y_in[i-1], y[i-1]) \n",
    "                \n",
    "                \n",
    "                if np.array_equal(y,temp):\n",
    "                    break\n",
    "                iter+=1\n",
    "            \n",
    "            #for k in range(0,j):\n",
    "            print(\"\\noutput for test cases====\", y)    \n",
    "            print(iter)                   "
   ]
  },
  {
   "cell_type": "code",
   "execution_count": 39,
   "id": "7d20e603",
   "metadata": {
    "scrolled": true
   },
   "outputs": [
    {
     "name": "stdout",
     "output_type": "stream",
     "text": [
      "------------------------------\n",
      "weights(W4x4) are:\n",
      " [[0 2 0 0]\n",
      " [2 0 0 0]\n",
      " [0 0 0 2]\n",
      " [0 0 2 0]]\n",
      "\n",
      "output for test cases==== [1 1 1 1]\n",
      "0\n",
      "\n",
      "output for test cases==== [1 1 0 0]\n",
      "1\n",
      "\n",
      "output for test cases==== [1 1 1 1]\n",
      "1\n"
     ]
    }
   ],
   "source": [
    "print(\"------------------------------\")\n",
    "matrix_inp = np.array([[1,1,1,1],#test_cases\n",
    "                       [1,1,-1,-1],\n",
    "                       [1,1,1,0]])\n",
    "\n",
    "j = len(matrix_inp)-1\n",
    "#print(j)\n",
    "h_model=Hopfield_Net()\n",
    "h_model.parse(matrix_inp)"
   ]
  },
  {
   "cell_type": "code",
   "execution_count": null,
   "id": "964d0710",
   "metadata": {},
   "outputs": [],
   "source": []
  }
 ],
 "metadata": {
  "kernelspec": {
   "display_name": "Python 3 (ipykernel)",
   "language": "python",
   "name": "python3"
  },
  "language_info": {
   "codemirror_mode": {
    "name": "ipython",
    "version": 3
   },
   "file_extension": ".py",
   "mimetype": "text/x-python",
   "name": "python",
   "nbconvert_exporter": "python",
   "pygments_lexer": "ipython3",
   "version": "3.7.3"
  }
 },
 "nbformat": 4,
 "nbformat_minor": 5
}
