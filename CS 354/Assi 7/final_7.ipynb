{
 "cells": [
  {
   "cell_type": "code",
   "execution_count": 1,
   "metadata": {},
   "outputs": [],
   "source": [
    "import numpy as np\n",
    "class Model:\n",
    "  def __init__(self, num_inputs):\n",
    "    self.weights = np.zeros(num_inputs)\n",
    "    self.bias = 0\n",
    "  def predict(self, inputs):\n",
    "    sum = np.dot(inputs, self.weights[:]) + self.bias\n",
    "    if sum >= 0:\n",
    "      prediction = 1\n",
    "    else:\n",
    "      prediction = 0\n",
    "    return prediction\n",
    "  def fit(self, inputs, label, learning_rate=0.1):\n",
    "    epochNo = 0\n",
    "    while epochNo<50:\n",
    "      epochNo = epochNo + 1\n",
    "      for val, res in zip(inputs, label):\n",
    "        prediction= self.predict(val)\n",
    "        self.weights[:] += learning_rate * (res-prediction) * val\n",
    "        self.bias += learning_rate *(res-prediction)\n",
    "def test(train_inputs,perceptrons):\n",
    "  inp = train_inputs\n",
    "  arr=[]\n",
    "  for i in range(10):\n",
    "    bit=perceptrons[i].predict(inp)\n",
    "    if bit==1:\n",
    "      return 9-i\n",
    "  return 0"
   ]
  },
  {
   "cell_type": "code",
   "execution_count": 8,
   "metadata": {},
   "outputs": [
    {
     "name": "stdout",
     "output_type": "stream",
     "text": [
      "Manual Data 1111110 Prediction-> 0\n",
      "Manual Data 0110011 Prediction-> 4\n"
     ]
    }
   ],
   "source": [
    "train_inputs = np.array([[1,1,1,1,1,1,0],[0,1,1,0,0,0,0],[1,1,0,1,1,0,1],[1,1,1,1,0,0,1],[0,1,1,0,0,1,1],[1,0,1,1,0,1,1],[1,0,1,1,1,1,1],[1,1,1,0,0,0,0],[1,1,1,1,1,1,1],[1,1,1,1,0,1,1]])\n",
    "labels = np.array([[0,0,0,0,0,0,0,0,0,1],[0,0,0,0,0,0,0,0,1,0],[0,0,0,0,0,0,0,1,0,0],[0,0,0,0,0,0,1,0,0,0],[0,0,0,0,0,1,0,0,0,0],[0,0,0,0,1,0,0,0,0,0],[0,0,0,1,0,0,0,0,0,0],[0,0,1,0,0,0,0,0,0,0],[0,1,0,0,0,0,0,0,0,0],[1,0,0,0,0,0,0,\n",
    "0,0,0]])\n",
    "# 7 inputs for 10 perceptrons\n",
    "perceptrons = []\n",
    "for i in range(10):\n",
    "  perceptron = Model(7)\n",
    "  perceptron.fit(train_inputs, labels[i],0.3)\n",
    "  perceptrons.append(perceptron)\n",
    "# for i in perceptrons:\n",
    "\n",
    "# print(i.predict(train_inputs[0]))\n",
    "print(\"Manual Data 1111110 Prediction-> \"+str(test(np.array([[1,1,1,1,1,1,0]]),perceptrons)))\n",
    "print(\"Manual Data 0110011 Prediction-> \"+str(test(np.array([[0,1,1,0,0,1,1]]),perceptrons)))"
   ]
  },
  {
   "cell_type": "code",
   "execution_count": 10,
   "metadata": {},
   "outputs": [
    {
     "name": "stdout",
     "output_type": "stream",
     "text": [
      "[1, 0, 0, 0, 0, 0, 1] : is palindrome =>  1\n",
      "[0, 0, 1, 1, 0, 1, 1] : is palindrome =>  0\n",
      "[0, 1, 0, 0, 0, 1, 0] : is palindrome =>  1\n",
      "[1, 1, 0, 0, 0, 1, 1] : is palindrome =>  1\n",
      "[1, 0, 1, 1, 1, 0, 1] : is palindrome =>  1\n",
      "[1, 0, 1, 0, 0, 1, 1] : is palindrome =>  0\n"
     ]
    }
   ],
   "source": [
    "train_inputs = np.array([[1,0,0,0,0,0,1],[1,0,1,0,0,1,1],[1,1,1,1,0,0,0],[0,0,1,1,0,1,1],\n",
    "[1,1,0,0,0,1,1],[0,0,1,1,1,0,0]])\n",
    "labels = np.array([1,0,0,0,1,1])\n",
    "perceptron = Model(7)\n",
    "perceptron.fit(train_inputs, labels, 0.1)\n",
    "dataset = [\n",
    "[1,0,0,0,0,0,1],\n",
    "[0,0,1,1,0,1,1],\n",
    "[0,1,0,0,0,1,0],\n",
    "[1,1,0,0,0,1,1],\n",
    "[1,0,1,1,1,0,1],\n",
    "[1,0,1,0,0,1,1]\n",
    "]\n",
    "for i in dataset:\n",
    " print(i, \": is palindrome => \", perceptron.predict(i))\n"
   ]
  },
  {
   "cell_type": "code",
   "execution_count": 3,
   "metadata": {},
   "outputs": [
    {
     "name": "stdout",
     "output_type": "stream",
     "text": [
      "1\n",
      "0\n",
      "0\n",
      "1\n",
      "1\n",
      "0\n",
      "Manual Data 110001101 Prediction-> 1\n",
      "Manual Data 100000000 Prediction-> 0\n"
     ]
    }
   ],
   "source": [
    "# Q2 (Majority Element)\n",
    "\n",
    "train_inputs = np.array([[1,1,1,0,1,1,0,1,1],[1,0, 0, 0, 1, 0, 0, 1, 1],[1, 1, 0, 0, 0, 1, 0, 0, 1], [1, 1, 1, 1, 1, 0, 0, 0, 0],[1, 0, 0, 0, 1, 0, 1, 1, 1],[0, 0, 0, 0, 0, 0, 0, 0, 1]])\n",
    "labels = np.array([1,0,0,1,1,0])\n",
    "# 9 input for perceptron\n",
    "perceptron = Model(9)\n",
    "perceptron.fit(train_inputs, labels, 0.1)\n",
    "for i in range(6):\n",
    "  print(perceptron.predict(train_inputs[i]))\n",
    "# My manual test data\n",
    "print(\"Manual Data 110001101 Prediction-> \"+str(perceptron.predict(np.array([[1,1,0,0,0,1,1,0,1]]))))\n",
    "print(\"Manual Data 100000000 Prediction-> \"+str(perceptron.predict(np.array([[1,0,0,0,0,0,0,0,0]]))))"
   ]
  }
 ],
 "metadata": {
  "interpreter": {
   "hash": "2f29189143bfbaed5106ace42f2d66954d8cc070dc736e80e32c268e0e19711a"
  },
  "kernelspec": {
   "display_name": "Python 3.7.3 64-bit",
   "language": "python",
   "name": "python3"
  },
  "language_info": {
   "codemirror_mode": {
    "name": "ipython",
    "version": 3
   },
   "file_extension": ".py",
   "mimetype": "text/x-python",
   "name": "python",
   "nbconvert_exporter": "python",
   "pygments_lexer": "ipython3",
   "version": "3.7.3"
  },
  "orig_nbformat": 4
 },
 "nbformat": 4,
 "nbformat_minor": 2
}
